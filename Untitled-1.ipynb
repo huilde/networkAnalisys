{
 "cells": [
  {
   "cell_type": "code",
   "execution_count": null,
   "metadata": {},
   "outputs": [],
   "source": []
  },
  {
   "cell_type": "code",
   "execution_count": 33,
   "metadata": {},
   "outputs": [
    {
     "name": "stdout",
     "output_type": "stream",
     "text": [
      "Requirement already satisfied: matplotlib in ./opt/anaconda3/lib/python3.9/site-packages (3.7.1)\n",
      "Requirement already satisfied: python-dateutil>=2.7 in ./opt/anaconda3/lib/python3.9/site-packages (from matplotlib) (2.8.2)\n",
      "Requirement already satisfied: fonttools>=4.22.0 in ./opt/anaconda3/lib/python3.9/site-packages (from matplotlib) (4.25.0)\n",
      "Requirement already satisfied: importlib-resources>=3.2.0 in ./opt/anaconda3/lib/python3.9/site-packages (from matplotlib) (5.12.0)\n",
      "Requirement already satisfied: contourpy>=1.0.1 in ./opt/anaconda3/lib/python3.9/site-packages (from matplotlib) (1.0.7)\n",
      "Requirement already satisfied: kiwisolver>=1.0.1 in ./opt/anaconda3/lib/python3.9/site-packages (from matplotlib) (1.3.2)\n",
      "Requirement already satisfied: packaging>=20.0 in ./opt/anaconda3/lib/python3.9/site-packages (from matplotlib) (21.3)\n",
      "Requirement already satisfied: pyparsing>=2.3.1 in ./opt/anaconda3/lib/python3.9/site-packages (from matplotlib) (3.0.4)\n",
      "Requirement already satisfied: pillow>=6.2.0 in ./opt/anaconda3/lib/python3.9/site-packages (from matplotlib) (9.0.1)\n",
      "Requirement already satisfied: numpy>=1.20 in ./opt/anaconda3/lib/python3.9/site-packages (from matplotlib) (1.21.5)\n",
      "Requirement already satisfied: cycler>=0.10 in ./opt/anaconda3/lib/python3.9/site-packages (from matplotlib) (0.11.0)\n",
      "Requirement already satisfied: zipp>=3.1.0 in ./opt/anaconda3/lib/python3.9/site-packages (from importlib-resources>=3.2.0->matplotlib) (3.7.0)\n",
      "Requirement already satisfied: six>=1.5 in ./opt/anaconda3/lib/python3.9/site-packages (from python-dateutil>=2.7->matplotlib) (1.16.0)\n",
      "Note: you may need to restart the kernel to use updated packages.\n"
     ]
    }
   ],
   "source": [
    "\n",
    "\n",
    "pip install matplotlib"
   ]
  },
  {
   "cell_type": "code",
   "execution_count": 34,
   "metadata": {},
   "outputs": [
    {
     "name": "stdout",
     "output_type": "stream",
     "text": [
      "Requirement already satisfied: networkx in ./opt/anaconda3/lib/python3.9/site-packages (2.7.1)\n",
      "Note: you may need to restart the kernel to use updated packages.\n"
     ]
    }
   ],
   "source": [
    "\n",
    "pip install networkx\n"
   ]
  },
  {
   "attachments": {},
   "cell_type": "markdown",
   "metadata": {},
   "source": [
    "1\n",
    "(a) Subgrafo\n",
    "\n",
    "É um subconjunto dos elementos de um grafo principal.\n",
    "(b) Grafo bipartido\n",
    "\n",
    "Um grafo bipartido é um grafo cujos vértices podem ser divididos em dois conjuntos disjuntos, de modo que todas as arestas ligam um vértice de um conjunto a um vértice do outro conjunto.\n",
    "\n",
    "(c) Grafo Hamiltoniano\n",
    "\n",
    "É um grafo que contém um ciclo que passa por cada vértice exatamente uma vez.\n",
    "\n",
    "(d) Grafo Euleriano\n",
    "\n",
    "Um grafo dirigido é Euleriano se for conexo e cada vértice tiver graus internos iguais aos externos. Um grafo não dirigido é considerado \"traversable\" se for conexo e tiver exatamente dois vértices com grau ímpar."
   ]
  },
  {
   "attachments": {},
   "cell_type": "markdown",
   "metadata": {},
   "source": [
    "2) \n",
    "    . Em um BFS, você explora primeiro todos os nós a um passo de distância, depois todos os nós a dois passos de distância, etc. "
   ]
  },
  {
   "attachments": {},
   "cell_type": "markdown",
   "metadata": {},
   "source": [
    "3) \n",
    "    Um grafo completo com n vértices tem n*(n-1)/2 arestas. Um grafo dirigido completo com n vértices tem n*(n-1) arestas."
   ]
  },
  {
   "cell_type": "code",
   "execution_count": 35,
   "metadata": {},
   "outputs": [
    {
     "ename": "SyntaxError",
     "evalue": "unmatched ')' (409209523.py, line 1)",
     "output_type": "error",
     "traceback": [
      "\u001b[0;36m  Input \u001b[0;32mIn [35]\u001b[0;36m\u001b[0m\n\u001b[0;31m    4)Grafos isomórficos são grafos que têm a mesma estrutura, ou seja, eles têm o mesmo número de vértices e as mesmas relações de adjacência, mas podem ter diferentes rótulos de vértices. Em outras palavras, dois grafos são isomórficos se eles puderem ser transformados um no outro por meio de uma reordenação de seus vértices.\u001b[0m\n\u001b[0m     ^\u001b[0m\n\u001b[0;31mSyntaxError\u001b[0m\u001b[0;31m:\u001b[0m unmatched ')'\n"
     ]
    }
   ],
   "source": [
    "4)Grafos isomórficos são grafos que têm a mesma estrutura, ou seja, eles têm o mesmo número de vértices e as mesmas relações de adjacência, mas podem ter diferentes rótulos de vértices. Em outras palavras, dois grafos são isomórficos se eles puderem ser transformados um no outro por meio de uma reordenação de seus vértices.\n",
    "\n"
   ]
  },
  {
   "cell_type": "code",
   "execution_count": null,
   "metadata": {},
   "outputs": [
    {
     "ename": "TypeError",
     "evalue": "'_AxesStack' object is not callable",
     "output_type": "error",
     "traceback": [
      "\u001b[0;31m---------------------------------------------------------------------------\u001b[0m",
      "\u001b[0;31mTypeError\u001b[0m                                 Traceback (most recent call last)",
      "\u001b[1;32m/Users/vnthuvi/Untitled-1.ipynb Célula 7\u001b[0m in \u001b[0;36m<cell line: 15>\u001b[0;34m()\u001b[0m\n\u001b[1;32m     <a href='vscode-notebook-cell:/Users/vnthuvi/Untitled-1.ipynb#W6sZmlsZQ%3D%3D?line=12'>13</a>\u001b[0m pos1 \u001b[39m=\u001b[39m nx\u001b[39m.\u001b[39mspring_layout(G1)\n\u001b[1;32m     <a href='vscode-notebook-cell:/Users/vnthuvi/Untitled-1.ipynb#W6sZmlsZQ%3D%3D?line=13'>14</a>\u001b[0m plt\u001b[39m.\u001b[39msubplot(\u001b[39m121\u001b[39m)\n\u001b[0;32m---> <a href='vscode-notebook-cell:/Users/vnthuvi/Untitled-1.ipynb#W6sZmlsZQ%3D%3D?line=14'>15</a>\u001b[0m nx\u001b[39m.\u001b[39;49mdraw(G1, pos1, with_labels\u001b[39m=\u001b[39;49m\u001b[39mTrue\u001b[39;49;00m)\n\u001b[1;32m     <a href='vscode-notebook-cell:/Users/vnthuvi/Untitled-1.ipynb#W6sZmlsZQ%3D%3D?line=15'>16</a>\u001b[0m plt\u001b[39m.\u001b[39mtitle(\u001b[39m\"\u001b[39m\u001b[39mGrafo 1\u001b[39m\u001b[39m\"\u001b[39m)\n",
      "File \u001b[0;32m~/opt/anaconda3/lib/python3.9/site-packages/networkx/drawing/nx_pylab.py:112\u001b[0m, in \u001b[0;36mdraw\u001b[0;34m(G, pos, ax, **kwds)\u001b[0m\n\u001b[1;32m    110\u001b[0m cf\u001b[39m.\u001b[39mset_facecolor(\u001b[39m\"\u001b[39m\u001b[39mw\u001b[39m\u001b[39m\"\u001b[39m)\n\u001b[1;32m    111\u001b[0m \u001b[39mif\u001b[39;00m ax \u001b[39mis\u001b[39;00m \u001b[39mNone\u001b[39;00m:\n\u001b[0;32m--> 112\u001b[0m     \u001b[39mif\u001b[39;00m cf\u001b[39m.\u001b[39;49m_axstack() \u001b[39mis\u001b[39;00m \u001b[39mNone\u001b[39;00m:\n\u001b[1;32m    113\u001b[0m         ax \u001b[39m=\u001b[39m cf\u001b[39m.\u001b[39madd_axes((\u001b[39m0\u001b[39m, \u001b[39m0\u001b[39m, \u001b[39m1\u001b[39m, \u001b[39m1\u001b[39m))\n\u001b[1;32m    114\u001b[0m     \u001b[39melse\u001b[39;00m:\n",
      "\u001b[0;31mTypeError\u001b[0m: '_AxesStack' object is not callable"
     ]
    },
    {
     "data": {
      "image/png": "[encoded data removed]",
      "text/plain": [
       "<Figure size 432x288 with 1 Axes>"
      ]
     },
     "metadata": {},
     "output_type": "display_data"
    }
   ],
   "source": [
    "\n",
    "import networkx as nx\n",
    "import matplotlib.pyplot as plt\n",
    "\n",
    "G1 = nx.Graph()\n",
    "G1.add_nodes_from([1, 2, 3, 4])\n",
    "G1.add_edges_from([(1, 2), (1, 3), (2, 3), (3, 4)])\n",
    "\n",
    "G2 = nx.Graph()\n",
    "G2.add_nodes_from([5, 6, 7, 8])\n",
    "G2.add_edges_from([(5, 6), (5, 7), (6, 7), (7, 8)])\n",
    "\n",
    "\n",
    "pos1 = nx.spring_layout(G1)\n",
    "plt.subplot(121)\n",
    "nx.draw(G1, pos1, with_labels=True)\n",
    "plt.title(\"Grafo 1\")\n"
   ]
  },
  {
   "cell_type": "code",
   "execution_count": null,
   "metadata": {},
   "outputs": [
    {
     "ename": "TypeError",
     "evalue": "'_AxesStack' object is not callable",
     "output_type": "error",
     "traceback": [
      "\u001b[0;31m---------------------------------------------------------------------------\u001b[0m",
      "\u001b[0;31mTypeError\u001b[0m                                 Traceback (most recent call last)",
      "\u001b[1;32m/Users/vnthuvi/Untitled-1.ipynb Célula 9\u001b[0m in \u001b[0;36m<cell line: 10>\u001b[0;34m()\u001b[0m\n\u001b[1;32m      <a href='vscode-notebook-cell:/Users/vnthuvi/Untitled-1.ipynb#X11sZmlsZQ%3D%3D?line=6'>7</a>\u001b[0m G\u001b[39m.\u001b[39madd_edges_from([(\u001b[39m2\u001b[39m, \u001b[39m5\u001b[39m), (\u001b[39m6\u001b[39m, \u001b[39m1\u001b[39m), (\u001b[39m5\u001b[39m, \u001b[39m3\u001b[39m), (\u001b[39m2\u001b[39m, \u001b[39m3\u001b[39m)])\n\u001b[1;32m      <a href='vscode-notebook-cell:/Users/vnthuvi/Untitled-1.ipynb#X11sZmlsZQ%3D%3D?line=8'>9</a>\u001b[0m pos \u001b[39m=\u001b[39m nx\u001b[39m.\u001b[39mspring_layout(G)\n\u001b[0;32m---> <a href='vscode-notebook-cell:/Users/vnthuvi/Untitled-1.ipynb#X11sZmlsZQ%3D%3D?line=9'>10</a>\u001b[0m nx\u001b[39m.\u001b[39;49mdraw(G, pos, with_labels\u001b[39m=\u001b[39;49m\u001b[39mTrue\u001b[39;49;00m)\n\u001b[1;32m     <a href='vscode-notebook-cell:/Users/vnthuvi/Untitled-1.ipynb#X11sZmlsZQ%3D%3D?line=10'>11</a>\u001b[0m plt\u001b[39m.\u001b[39mtitle(\u001b[39m\"\u001b[39m\u001b[39mUndirected Graph G\u001b[39m\u001b[39m\"\u001b[39m)\n\u001b[1;32m     <a href='vscode-notebook-cell:/Users/vnthuvi/Untitled-1.ipynb#X11sZmlsZQ%3D%3D?line=12'>13</a>\u001b[0m plt\u001b[39m.\u001b[39mshow()\n",
      "File \u001b[0;32m~/opt/anaconda3/lib/python3.9/site-packages/networkx/drawing/nx_pylab.py:112\u001b[0m, in \u001b[0;36mdraw\u001b[0;34m(G, pos, ax, **kwds)\u001b[0m\n\u001b[1;32m    110\u001b[0m cf\u001b[39m.\u001b[39mset_facecolor(\u001b[39m\"\u001b[39m\u001b[39mw\u001b[39m\u001b[39m\"\u001b[39m)\n\u001b[1;32m    111\u001b[0m \u001b[39mif\u001b[39;00m ax \u001b[39mis\u001b[39;00m \u001b[39mNone\u001b[39;00m:\n\u001b[0;32m--> 112\u001b[0m     \u001b[39mif\u001b[39;00m cf\u001b[39m.\u001b[39;49m_axstack() \u001b[39mis\u001b[39;00m \u001b[39mNone\u001b[39;00m:\n\u001b[1;32m    113\u001b[0m         ax \u001b[39m=\u001b[39m cf\u001b[39m.\u001b[39madd_axes((\u001b[39m0\u001b[39m, \u001b[39m0\u001b[39m, \u001b[39m1\u001b[39m, \u001b[39m1\u001b[39m))\n\u001b[1;32m    114\u001b[0m     \u001b[39melse\u001b[39;00m:\n",
      "\u001b[0;31mTypeError\u001b[0m: '_AxesStack' object is not callable"
     ]
    },
    {
     "data": {
      "text/plain": [
       "<Figure size 432x288 with 0 Axes>"
      ]
     },
     "metadata": {},
     "output_type": "display_data"
    }
   ],
   "source": [
    "## 7\n",
    "\n",
    "import networkx as nx\n",
    "import matplotlib.pyplot as plt\n",
    "G = nx.Graph()\n",
    "G.add_nodes_from([1, 2, 3, 4, 5, 6])\n",
    "G.add_edges_from([(2, 5), (6, 1), (5, 3), (2, 3)])\n",
    "\n",
    "pos = nx.spring_layout(G)\n",
    "nx.draw(G, pos, with_labels=True)\n",
    "plt.title(\"Undirected Graph G\")\n",
    "\n",
    "plt.show()\n",
    "\n",
    "DG = nx.DiGraph()\n",
    "DG.add_nodes_from([1, 2, 3, 4, 5, 6])\n",
    "DG.add_edges_from([(2, 5), (6, 1), (5, 3), (2, 3)])\n",
    "\n",
    "pos = nx.spring_layout(DG)\n",
    "nx.draw(DG, pos, with_labels=True)\n",
    "plt.title(\"Directed Graph G\")\n",
    "\n",
    "plt.show()\n",
    "\n"
   ]
  },
  {
   "attachments": {},
   "cell_type": "markdown",
   "metadata": {},
   "source": [
    "\n",
    "8 - Um grafo com 3 vértices de grau 3 e um vértice de grau 5 tem um total de 14 arestas. Isso ocorre porque a soma dos graus de todos os vértices em um grafo é igual a duas vezes o número de arestas no grafo, e podemos calcular que a soma dos graus dos quatro vértices é igual a 14."
   ]
  },
  {
   "cell_type": "code",
   "execution_count": null,
   "metadata": {},
   "outputs": [
    {
     "data": {
      "image/png": "[encoded data removed]",
      "text/plain": [
       "<Figure size 432x288 with 1 Axes>"
      ]
     },
     "metadata": {},
     "output_type": "display_data"
    }
   ],
   "source": [
    "import networkx as nx\n",
    "import matplotlib.pyplot as plt\n",
    "\n",
    "G = nx.DiGraph()\n",
    "\n",
    "nodes = ['A', 'B', 'C', 'D', 'E', 'F', 'G', 'H']\n",
    "G.add_nodes_from(nodes)\n",
    "\n",
    "edges = [('A', 'B'), ('A', 'C'), ('A','D'),('D','A'), ('C','A'), ('B', 'C'), ('C', 'D'), ('D', 'E'), ('D', 'F'), ('D', 'H'),('D','G'), ('G', 'D'),('G','A'), ('A','G')]\n",
    "G.add_edges_from(edges)\n",
    "\n",
    "weights = {}\n",
    "for edge in edges:\n",
    "    if (edge[1], edge[0]) in edges:\n",
    "        weights[edge] = 2\n",
    "    else:\n",
    "        weights[edge] = 1\n",
    "\n",
    "pos = nx.spring_layout(G)\n",
    "nx.draw_networkx(G, pos)\n",
    "nx.draw_networkx_edge_labels(G, pos, edge_labels=weights)\n",
    "plt.show()"
   ]
  },
  {
   "cell_type": "code",
   "execution_count": null,
   "metadata": {},
   "outputs": [
    {
     "ename": "TypeError",
     "evalue": "'_AxesStack' object is not callable",
     "output_type": "error",
     "traceback": [
      "\u001b[0;31m---------------------------------------------------------------------------\u001b[0m",
      "\u001b[0;31mTypeError\u001b[0m                                 Traceback (most recent call last)",
      "\u001b[1;32m/Users/vnthuvi/Untitled-1.ipynb Célula 12\u001b[0m in \u001b[0;36m<cell line: 17>\u001b[0;34m()\u001b[0m\n\u001b[1;32m     <a href='vscode-notebook-cell:/Users/vnthuvi/Untitled-1.ipynb#X14sZmlsZQ%3D%3D?line=13'>14</a>\u001b[0m \u001b[39mfor\u001b[39;00m u, v, w \u001b[39min\u001b[39;00m edges:\n\u001b[1;32m     <a href='vscode-notebook-cell:/Users/vnthuvi/Untitled-1.ipynb#X14sZmlsZQ%3D%3D?line=14'>15</a>\u001b[0m     G\u001b[39m.\u001b[39madd_edge(u, v, weight\u001b[39m=\u001b[39mw)\n\u001b[0;32m---> <a href='vscode-notebook-cell:/Users/vnthuvi/Untitled-1.ipynb#X14sZmlsZQ%3D%3D?line=16'>17</a>\u001b[0m nx\u001b[39m.\u001b[39;49mdraw(G, pos, with_labels\u001b[39m=\u001b[39;49m\u001b[39mTrue\u001b[39;49;00m)\n\u001b[1;32m     <a href='vscode-notebook-cell:/Users/vnthuvi/Untitled-1.ipynb#X14sZmlsZQ%3D%3D?line=17'>18</a>\u001b[0m labels \u001b[39m=\u001b[39m nx\u001b[39m.\u001b[39mget_edge_attributes(G, \u001b[39m'\u001b[39m\u001b[39mweight\u001b[39m\u001b[39m'\u001b[39m)\n\u001b[1;32m     <a href='vscode-notebook-cell:/Users/vnthuvi/Untitled-1.ipynb#X14sZmlsZQ%3D%3D?line=18'>19</a>\u001b[0m nx\u001b[39m.\u001b[39mdraw_networkx_edge_labels(G, pos, edge_labels\u001b[39m=\u001b[39mlabels)\n",
      "File \u001b[0;32m~/opt/anaconda3/lib/python3.9/site-packages/networkx/drawing/nx_pylab.py:112\u001b[0m, in \u001b[0;36mdraw\u001b[0;34m(G, pos, ax, **kwds)\u001b[0m\n\u001b[1;32m    110\u001b[0m cf\u001b[39m.\u001b[39mset_facecolor(\u001b[39m\"\u001b[39m\u001b[39mw\u001b[39m\u001b[39m\"\u001b[39m)\n\u001b[1;32m    111\u001b[0m \u001b[39mif\u001b[39;00m ax \u001b[39mis\u001b[39;00m \u001b[39mNone\u001b[39;00m:\n\u001b[0;32m--> 112\u001b[0m     \u001b[39mif\u001b[39;00m cf\u001b[39m.\u001b[39;49m_axstack() \u001b[39mis\u001b[39;00m \u001b[39mNone\u001b[39;00m:\n\u001b[1;32m    113\u001b[0m         ax \u001b[39m=\u001b[39m cf\u001b[39m.\u001b[39madd_axes((\u001b[39m0\u001b[39m, \u001b[39m0\u001b[39m, \u001b[39m1\u001b[39m, \u001b[39m1\u001b[39m))\n\u001b[1;32m    114\u001b[0m     \u001b[39melse\u001b[39;00m:\n",
      "\u001b[0;31mTypeError\u001b[0m: '_AxesStack' object is not callable"
     ]
    },
    {
     "data": {
      "text/plain": [
       "<Figure size 432x288 with 0 Axes>"
      ]
     },
     "metadata": {},
     "output_type": "display_data"
    }
   ],
   "source": [
    "## 10\n",
    "\n",
    "import networkx as nx\n",
    "import matplotlib.pyplot as plt\n",
    "\n",
    "G = nx.Graph()\n",
    "\n",
    "G.add_nodes_from(['A', 'B', 'C', 'D', 'E', 'F', 'G', 'H'])\n",
    "\n",
    "edges = [('A', 'B', 1), ('A', 'C', 1), ('A', 'D', 2), ('D', 'A', 2), ('C', 'A', 2),\n",
    "         ('B', 'C', 1), ('C', 'D', 1), ('D', 'E', 1), ('D', 'F', 1), ('D', 'H', 1),\n",
    "         ('D', 'G', 1), ('G', 'D', 2), ('G', 'A', 2)]\n",
    "\n",
    "for u, v, w in edges:\n",
    "    G.add_edge(u, v, weight=w)\n",
    "\n",
    "nx.draw(G, pos, with_labels=True)\n",
    "labels = nx.get_edge_attributes(G, 'weight')\n",
    "nx.draw_networkx_edge_labels(G, pos, edge_labels=labels)\n",
    "\n",
    "plt.show()"
   ]
  }
 ],
 "metadata": {
  "interpreter": {
   "hash": "31f2aee4e71d21fbe5cf8b01ff0e069b9275f58929596ceb00d14d90e3e16cd6"
  },
  "kernelspec": {
   "display_name": "Python 3.8.9 64-bit",
   "language": "python",
   "name": "python3"
  },
  "language_info": {
   "codemirror_mode": {
    "name": "ipython",
    "version": 3
   },
   "file_extension": ".py",
   "mimetype": "text/x-python",
   "name": "python",
   "nbconvert_exporter": "python",
   "pygments_lexer": "ipython3",
   "version": "3.9.12"
  },
  "orig_nbformat": 4
 },
 "nbformat": 4,
 "nbformat_minor": 2
}
